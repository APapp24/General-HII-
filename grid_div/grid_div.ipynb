{
 "cells": [
  {
   "cell_type": "code",
   "execution_count": 7,
   "id": "9aa62bbe",
   "metadata": {},
   "outputs": [],
   "source": [
    "from PIL import Image\n",
    "from itertools import product\n",
    "import os"
   ]
  },
  {
   "cell_type": "code",
   "execution_count": 12,
   "id": "500cc26b",
   "metadata": {},
   "outputs": [],
   "source": [
    "def tile(filename, dir_in, dir_out):\n",
    "    name, ext = os.path.splitext(filename)\n",
    "    img = Image.open(os.path.join(dir_in, filename))\n",
    "    w, h = img.size\n",
    "    d = (int) (img.size[0] / 5)\n",
    "    print(\"size: \", img.size)\n",
    "    print(\"d: \", d)\n",
    "    \n",
    "    grid = product(range(0, h-h%d, d), range(0, w-w%d, d))\n",
    "    for i, j in grid:\n",
    "        box = (j, i, j+d, i+d)\n",
    "        out = os.path.join(dir_out, f'{name}_{i}_{j}{ext}')\n",
    "        img.crop(box).save(out)"
   ]
  },
  {
   "cell_type": "code",
   "execution_count": null,
   "id": "1a660e3f",
   "metadata": {},
   "outputs": [],
   "source": []
  },
  {
   "cell_type": "code",
   "execution_count": 13,
   "id": "b0eabd9d",
   "metadata": {},
   "outputs": [
    {
     "name": "stdout",
     "output_type": "stream",
     "text": [
      "size:  (596, 593)\n",
      "d:  23\n"
     ]
    }
   ],
   "source": [
    "tile('hii_5.png', r'C:\\Users\\annab\\Documents\\Coding\\cs370\\Untitled Folder', r'C:\\Users\\annab\\Documents\\Coding\\cs370\\Untitled Folder\\view')"
   ]
  },
  {
   "cell_type": "code",
   "execution_count": null,
   "id": "e8c95a74",
   "metadata": {},
   "outputs": [],
   "source": [
    "# import cv2\n",
    "# import numpy as np\n",
    "\n",
    "# image= cv2.imread('orig.png')\n",
    "# cropped= image[30:250, 100:230]\n",
    "# cv2.imshow('cropped', cropped)"
   ]
  }
 ],
 "metadata": {
  "kernelspec": {
   "display_name": "Python 3 (ipykernel)",
   "language": "python",
   "name": "python3"
  },
  "language_info": {
   "codemirror_mode": {
    "name": "ipython",
    "version": 3
   },
   "file_extension": ".py",
   "mimetype": "text/x-python",
   "name": "python",
   "nbconvert_exporter": "python",
   "pygments_lexer": "ipython3",
   "version": "3.9.7"
  }
 },
 "nbformat": 4,
 "nbformat_minor": 5
}
