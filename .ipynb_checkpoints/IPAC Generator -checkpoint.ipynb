{
 "cells": [
  {
   "cell_type": "code",
   "execution_count": 2,
   "id": "66d80018",
   "metadata": {},
   "outputs": [],
   "source": [
    "#The purpose of this notebook is to create IPAC compliant .txt files given either a .csv of requests or general search parameters.\n",
    "import numpy \n",
    "import math\n",
    "from csv import reader\n",
    "import os\n",
    "import pandas as pd\n",
    "from collections import defaultdict"
   ]
  },
  {
   "cell_type": "code",
   "execution_count": 3,
   "id": "b581b529",
   "metadata": {},
   "outputs": [
    {
     "name": "stdout",
     "output_type": "stream",
     "text": [
      ".csv file? (y/n):y\n",
      "Custom search parameters? (y/n):n\n"
     ]
    }
   ],
   "source": [
    "yncsv = input(\".csv file? (y/n):\")\n",
    "ynbatch = input(\"Custom search parameters? (y/n):\")\n",
    "\n",
    "if yncsv == 'y':\n",
    "    yncsv = 1\n",
    "else:\n",
    "    yncsv = 0\n",
    "    \n",
    "if ynbatch == 'y':\n",
    "    ynbatch = 1\n",
    "else:\n",
    "    ynbatch = 0"
   ]
  },
  {
   "cell_type": "code",
   "execution_count": 4,
   "id": "fda27c2c",
   "metadata": {},
   "outputs": [
    {
     "ename": "KeyboardInterrupt",
     "evalue": "Interrupted by user",
     "output_type": "error",
     "traceback": [
      "\u001b[1;31m---------------------------------------------------------------------------\u001b[0m",
      "\u001b[1;31mKeyboardInterrupt\u001b[0m                         Traceback (most recent call last)",
      "\u001b[1;32m~\\AppData\\Local\\Temp/ipykernel_9472/1394974996.py\u001b[0m in \u001b[0;36m<module>\u001b[1;34m\u001b[0m\n\u001b[0;32m      1\u001b[0m \u001b[1;32mif\u001b[0m \u001b[0myncsv\u001b[0m \u001b[1;33m==\u001b[0m \u001b[1;36m1\u001b[0m\u001b[1;33m:\u001b[0m\u001b[1;33m\u001b[0m\u001b[1;33m\u001b[0m\u001b[0m\n\u001b[1;32m----> 2\u001b[1;33m     \u001b[0mfile\u001b[0m \u001b[1;33m=\u001b[0m \u001b[0minput\u001b[0m\u001b[1;33m(\u001b[0m\u001b[1;34m\"Enter file path to csv:\"\u001b[0m\u001b[1;33m)\u001b[0m\u001b[1;33m\u001b[0m\u001b[1;33m\u001b[0m\u001b[0m\n\u001b[0m\u001b[0;32m      3\u001b[0m \u001b[1;32mif\u001b[0m \u001b[0mynbatch\u001b[0m \u001b[1;33m==\u001b[0m \u001b[1;36m1\u001b[0m\u001b[1;33m:\u001b[0m\u001b[1;33m\u001b[0m\u001b[1;33m\u001b[0m\u001b[0m\n\u001b[0;32m      4\u001b[0m     \u001b[0mraorigin\u001b[0m \u001b[1;33m=\u001b[0m \u001b[0mfloat\u001b[0m\u001b[1;33m(\u001b[0m\u001b[0minput\u001b[0m\u001b[1;33m(\u001b[0m\u001b[1;34m\"Input center RA:\"\u001b[0m\u001b[1;33m)\u001b[0m\u001b[1;33m)\u001b[0m\u001b[1;33m\u001b[0m\u001b[1;33m\u001b[0m\u001b[0m\n\u001b[0;32m      5\u001b[0m     \u001b[0mdecorigin\u001b[0m \u001b[1;33m=\u001b[0m \u001b[0mfloat\u001b[0m\u001b[1;33m(\u001b[0m\u001b[0minput\u001b[0m\u001b[1;33m(\u001b[0m\u001b[1;34m\"Input center Dec.:\"\u001b[0m\u001b[1;33m)\u001b[0m\u001b[1;33m)\u001b[0m\u001b[1;33m\u001b[0m\u001b[1;33m\u001b[0m\u001b[0m\n",
      "\u001b[1;32m~\\anaconda3\\lib\\site-packages\\ipykernel\\kernelbase.py\u001b[0m in \u001b[0;36mraw_input\u001b[1;34m(self, prompt)\u001b[0m\n\u001b[0;32m   1004\u001b[0m                 \u001b[1;34m\"raw_input was called, but this frontend does not support input requests.\"\u001b[0m\u001b[1;33m\u001b[0m\u001b[1;33m\u001b[0m\u001b[0m\n\u001b[0;32m   1005\u001b[0m             )\n\u001b[1;32m-> 1006\u001b[1;33m         return self._input_request(\n\u001b[0m\u001b[0;32m   1007\u001b[0m             \u001b[0mstr\u001b[0m\u001b[1;33m(\u001b[0m\u001b[0mprompt\u001b[0m\u001b[1;33m)\u001b[0m\u001b[1;33m,\u001b[0m\u001b[1;33m\u001b[0m\u001b[1;33m\u001b[0m\u001b[0m\n\u001b[0;32m   1008\u001b[0m             \u001b[0mself\u001b[0m\u001b[1;33m.\u001b[0m\u001b[0m_parent_ident\u001b[0m\u001b[1;33m[\u001b[0m\u001b[1;34m\"shell\"\u001b[0m\u001b[1;33m]\u001b[0m\u001b[1;33m,\u001b[0m\u001b[1;33m\u001b[0m\u001b[1;33m\u001b[0m\u001b[0m\n",
      "\u001b[1;32m~\\anaconda3\\lib\\site-packages\\ipykernel\\kernelbase.py\u001b[0m in \u001b[0;36m_input_request\u001b[1;34m(self, prompt, ident, parent, password)\u001b[0m\n\u001b[0;32m   1049\u001b[0m             \u001b[1;32mexcept\u001b[0m \u001b[0mKeyboardInterrupt\u001b[0m\u001b[1;33m:\u001b[0m\u001b[1;33m\u001b[0m\u001b[1;33m\u001b[0m\u001b[0m\n\u001b[0;32m   1050\u001b[0m                 \u001b[1;31m# re-raise KeyboardInterrupt, to truncate traceback\u001b[0m\u001b[1;33m\u001b[0m\u001b[1;33m\u001b[0m\u001b[0m\n\u001b[1;32m-> 1051\u001b[1;33m                 \u001b[1;32mraise\u001b[0m \u001b[0mKeyboardInterrupt\u001b[0m\u001b[1;33m(\u001b[0m\u001b[1;34m\"Interrupted by user\"\u001b[0m\u001b[1;33m)\u001b[0m \u001b[1;32mfrom\u001b[0m \u001b[1;32mNone\u001b[0m\u001b[1;33m\u001b[0m\u001b[1;33m\u001b[0m\u001b[0m\n\u001b[0m\u001b[0;32m   1052\u001b[0m             \u001b[1;32mexcept\u001b[0m \u001b[0mException\u001b[0m\u001b[1;33m:\u001b[0m\u001b[1;33m\u001b[0m\u001b[1;33m\u001b[0m\u001b[0m\n\u001b[0;32m   1053\u001b[0m                 \u001b[0mself\u001b[0m\u001b[1;33m.\u001b[0m\u001b[0mlog\u001b[0m\u001b[1;33m.\u001b[0m\u001b[0mwarning\u001b[0m\u001b[1;33m(\u001b[0m\u001b[1;34m\"Invalid Message:\"\u001b[0m\u001b[1;33m,\u001b[0m \u001b[0mexc_info\u001b[0m\u001b[1;33m=\u001b[0m\u001b[1;32mTrue\u001b[0m\u001b[1;33m)\u001b[0m\u001b[1;33m\u001b[0m\u001b[1;33m\u001b[0m\u001b[0m\n",
      "\u001b[1;31mKeyboardInterrupt\u001b[0m: Interrupted by user"
     ]
    }
   ],
   "source": [
    "if yncsv == 1:\n",
    "    file = input(\"Enter file path to csv:\")\n",
    "if ynbatch == 1:\n",
    "    raorigin = float(input(\"Input center RA:\"))\n",
    "    decorigin = float(input(\"Input center Dec.:\"))\n",
    "    length = float(input(\"Input sides dimension:\"))\n",
    "    divisions = int(input(\"Number of subdivisions:\"))\n",
    "    file = input(\"Enter .txt file destination\")\n",
    "    "
   ]
  },
  {
   "cell_type": "code",
   "execution_count": null,
   "id": "2c34a2ad",
   "metadata": {},
   "outputs": [],
   "source": [
    "#csv processing module\n",
    "#Takes the csv and outputs a list of tuples \n",
    "#Theres an expectation that the csv is comprized of two columns, an RA column and a DEC column respectively \n",
    "#Units for both columns should be degrees\n",
    "if yncsv == 1:\n",
    "    erg = file.split('\\\\')\n",
    "    secfile = []\n",
    "    for n in range (0,len(erg)-1):\n",
    "        secfile.append(erg[n])\n",
    "    litfile = erg[len(erg)-1]\n",
    "    dirfile ='\\\\'.join(secfile)\n",
    "    os.chdir(dirfile)\n",
    "    listed = []\n",
    "    csv_tuples = []\n",
    "    with open(litfile) as csv_data:\n",
    "        data = reader(csv_data)\n",
    "        for row in data: \n",
    "            listed.append(row)\n",
    "    for n in range (1, len(listed)):\n",
    "        csv_tuples.append([float(listed[n][0]), float(listed[n][1])])\n",
    "print(dirfile)"
   ]
  },
  {
   "cell_type": "code",
   "execution_count": 321,
   "id": "6628555e",
   "metadata": {},
   "outputs": [
    {
     "name": "stdout",
     "output_type": "stream",
     "text": [
      "10000\n"
     ]
    }
   ],
   "source": [
    "#Generated batch search module \n",
    "if ynbatch == 1:\n",
    "    btras = []\n",
    "    for n in range(0, divisions):\n",
    "        for n in range(0, divisions):\n",
    "            figure = raorigin - length/2 + n*length/divisions\n",
    "            btras.append(figure) \n",
    "    for n in range (0, len(btras)):\n",
    "        btras[n] = [btras[n]]\n",
    "        dec = decorigin - length/2 + n*length/divisions\n",
    "        btras[n].append(dec)\n",
    "    print(len(btras))"
   ]
  },
  {
   "cell_type": "code",
   "execution_count": 11,
   "id": "62bd5f9b",
   "metadata": {},
   "outputs": [
    {
     "name": "stdout",
     "output_type": "stream",
     "text": [
      "[[0, [13.3, 25.5]]]\n"
     ]
    }
   ],
   "source": [
    "# if yncsv == 1:\n",
    "#     finfig = csv_tuples\n",
    "# if ynbatch == 1:\n",
    "#     finfig = btras\n",
    "# numpages = math.trunc(len(finfig)/1000)+1\n",
    "listpages = []\n",
    "# for n in range (0, numpages):\n",
    "#     listpages.append([n])\n",
    "# for n in range (0, numpages-1):\n",
    "#     a = 1000*n\n",
    "#     b = 1000*n+1000\n",
    "#     listpages[n].append(finfig[a:b])\n",
    "# #     listpages[n].append(tuple([n,finfig[a:b]]))\n",
    "#     print(listpages[n])\n",
    "# x = numpages*1000\n",
    "# y = len(finfig)-x+1000\n",
    "# print(x)\n",
    "# print(y)\n",
    "# print(listpages)\n",
    "listpages.append([0])\n",
    "listpages[0].append([13.3, 25.5])\n",
    "print(listpages)\n",
    "# listpages[numpages-1].append(finfig[x:y])\n",
    "for items in listpages: \n",
    "#     with open(\"{}Woise.txt\".format(items), 'w') as f:\n",
    "#         f.write(\"|              ra|             dec|\")\n",
    "#         f.write(\"\\n|          double|          double|\")\n",
    "#         f.write(\"\\n|         degrees|         degrees|\")\n",
    "        print(\"|              ra|             dec|\")\n",
    "        print(\"\\n|          double|          double|\")\n",
    "        print(\"\\n|         degrees|         degrees|\")"
   ]
  },
  {
   "cell_type": "code",
   "execution_count": null,
   "id": "a3f56da6",
   "metadata": {},
   "outputs": [],
   "source": [
    "counter = 0\n",
    "f.write(\"\\n\" + listpages[counter] + )"
   ]
  }
 ],
 "metadata": {
  "kernelspec": {
   "display_name": "Python 3 (ipykernel)",
   "language": "python",
   "name": "python3"
  },
  "language_info": {
   "codemirror_mode": {
    "name": "ipython",
    "version": 3
   },
   "file_extension": ".py",
   "mimetype": "text/x-python",
   "name": "python",
   "nbconvert_exporter": "python",
   "pygments_lexer": "ipython3",
   "version": "3.9.7"
  }
 },
 "nbformat": 4,
 "nbformat_minor": 5
}
