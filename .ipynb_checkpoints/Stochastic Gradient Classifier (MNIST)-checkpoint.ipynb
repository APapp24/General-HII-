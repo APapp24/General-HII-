{
 "cells": [
  {
   "cell_type": "code",
   "execution_count": 3,
   "metadata": {},
   "outputs": [],
   "source": [
    "import keras as kr\n",
    "import tensorflow as tf\n",
    "import numpy as np\n",
    "import pandas as pd\n",
    "import matplotlib as mpl\n",
    "import matplotlib.pyplot as plt\n",
    "from sklearn.linear_model import SGDClassifier"
   ]
  },
  {
   "cell_type": "code",
   "execution_count": 5,
   "metadata": {},
   "outputs": [
    {
     "name": "stdout",
     "output_type": "stream",
     "text": [
      "dict_keys(['data', 'target', 'frame', 'categories', 'feature_names', 'target_names', 'DESCR', 'details', 'url'])\n"
     ]
    }
   ],
   "source": [
    "from sklearn.datasets import fetch_openml\n",
    "mnist = fetch_openml('mnist_784', version=1)\n",
    "# mnist.keys()\n",
    "\n",
    "print(mnist.keys())\n",
    "X, y = mnist[\"data\"], mnist[\"target\"]\n",
    "Y = y.astype(np.uint8)\n",
    "print(X, y)"
   ]
  },
  {
   "cell_type": "code",
   "execution_count": 8,
   "metadata": {
    "scrolled": true
   },
   "outputs": [
    {
     "data": {
      "image/png": "[encoded data removed]",
      "text/plain": [
       "<Figure size 432x288 with 1 Axes>"
      ]
     },
     "metadata": {
      "needs_background": "light"
     },
     "output_type": "display_data"
    }
   ],
   "source": [
    "some_digit = X.to_numpy()[125]\n",
    "some_digit_image = some_digit.reshape(28,28)\n",
    "\n",
    "plt.imshow(some_digit_image,cmap=\"binary\")\n",
    "plt.axis(\"off\")\n",
    "plt.show()"
   ]
  },
  {
   "cell_type": "code",
   "execution_count": 5,
   "metadata": {},
   "outputs": [],
   "source": [
    "X_train, X_test, Y_train, Y_test = X[:60000], X[60000:], Y[:60000], Y[60000:]\n",
    "Y_train_5 = (Y_train == 5)\n",
    "Y_test_5 = (Y_test == 5)"
   ]
  },
  {
   "cell_type": "code",
   "execution_count": 6,
   "metadata": {},
   "outputs": [
    {
     "data": {
      "text/plain": [
       "SGDClassifier(random_state=42)"
      ]
     },
     "execution_count": 6,
     "metadata": {},
     "output_type": "execute_result"
    }
   ],
   "source": [
    "sgd_clf = SGDClassifier(random_state = 42)\n",
    "sgd_clf.fit(X_train, Y_train_5)"
   ]
  },
  {
   "cell_type": "code",
   "execution_count": 7,
   "metadata": {
    "collapsed": true
   },
   "outputs": [
    {
     "name": "stdout",
     "output_type": "stream",
     "text": [
      "5 [ True]\n",
      "0 [False]\n",
      "4 [False]\n",
      "1 [False]\n",
      "9 [False]\n",
      "2 [False]\n",
      "1 [False]\n",
      "3 [False]\n",
      "1 [False]\n",
      "4 [False]\n",
      "3 [False]\n",
      "5 [ True]\n",
      "3 [False]\n",
      "6 [False]\n",
      "1 [False]\n",
      "7 [False]\n",
      "2 [False]\n",
      "8 [False]\n",
      "6 [False]\n",
      "9 [False]\n",
      "4 [False]\n",
      "0 [False]\n",
      "9 [False]\n",
      "1 [False]\n",
      "1 [False]\n",
      "2 [False]\n",
      "4 [False]\n",
      "3 [False]\n",
      "2 [False]\n",
      "7 [False]\n",
      "3 [False]\n",
      "8 [False]\n",
      "6 [False]\n",
      "9 [False]\n",
      "0 [False]\n",
      "5 [ True]\n",
      "6 [False]\n",
      "0 [False]\n",
      "7 [False]\n",
      "6 [False]\n",
      "1 [False]\n",
      "8 [False]\n",
      "7 [False]\n",
      "9 [False]\n",
      "3 [False]\n",
      "9 [False]\n",
      "8 [False]\n",
      "5 [ True]\n",
      "9 [ True]\n",
      "3 [False]\n",
      "3 [False]\n",
      "0 [False]\n",
      "7 [False]\n",
      "4 [False]\n",
      "9 [False]\n",
      "8 [False]\n",
      "0 [False]\n",
      "9 [False]\n",
      "4 [False]\n",
      "1 [False]\n",
      "4 [False]\n",
      "4 [False]\n",
      "6 [False]\n",
      "0 [False]\n",
      "4 [False]\n",
      "5 [ True]\n",
      "6 [False]\n",
      "1 [False]\n",
      "0 [False]\n",
      "0 [False]\n",
      "1 [False]\n",
      "7 [False]\n",
      "1 [False]\n",
      "6 [False]\n",
      "3 [False]\n",
      "0 [False]\n",
      "2 [False]\n",
      "1 [False]\n",
      "1 [False]\n",
      "7 [False]\n",
      "9 [False]\n",
      "0 [ True]\n",
      "2 [False]\n",
      "6 [False]\n",
      "7 [False]\n",
      "8 [False]\n",
      "3 [False]\n",
      "9 [False]\n",
      "0 [False]\n",
      "4 [False]\n",
      "6 [False]\n",
      "7 [False]\n",
      "4 [False]\n",
      "6 [False]\n",
      "8 [False]\n",
      "0 [False]\n",
      "7 [False]\n",
      "8 [False]\n",
      "3 [False]\n",
      "1 [False]\n"
     ]
    }
   ],
   "source": [
    "for b in range(0, 100):\n",
    "    print(Y[b], sgd_clf.predict([X.to_numpy()[b]]))"
   ]
  },
  {
   "cell_type": "code",
   "execution_count": 57,
   "metadata": {
    "collapsed": true
   },
   "outputs": [
    {
     "name": "stdout",
     "output_type": "stream",
     "text": [
      "0 5\n",
      "11 5\n",
      "35 5\n",
      "47 5\n",
      "48 9\n",
      "65 5\n",
      "81 0\n",
      "100 5\n",
      "125 8\n",
      "142 4\n",
      "145 5\n",
      "173 5\n",
      "175 5\n",
      "182 5\n",
      "191 5\n",
      "202 8\n",
      "219 5\n",
      "228 3\n",
      "236 5\n",
      "239 5\n",
      "255 3\n",
      "259 5\n",
      "262 2\n",
      "266 5\n",
      "273 5\n",
      "284 5\n",
      "287 5\n",
      "306 5\n",
      "316 5\n",
      "328 5\n",
      "332 5\n",
      "335 5\n",
      "376 5\n",
      "396 5\n",
      "403 5\n",
      "407 5\n",
      "417 5\n",
      "420 5\n",
      "433 3\n",
      "437 5\n",
      "451 0\n",
      "463 5\n",
      "469 8\n",
      "470 1\n",
      "474 5\n",
      "480 5\n",
      "496 5\n",
      "502 5\n",
      "504 5\n",
      "512 5\n",
      "513 5\n",
      "514 5\n",
      "516 5\n",
      "517 8\n",
      "523 5\n",
      "528 8\n",
      "537 5\n",
      "540 3\n",
      "543 5\n",
      "544 5\n",
      "559 8\n",
      "561 3\n",
      "576 4\n",
      "579 5\n",
      "614 5\n",
      "615 8\n",
      "620 5\n",
      "622 5\n",
      "625 5\n",
      "652 5\n",
      "653 5\n",
      "679 5\n",
      "689 0\n",
      "699 5\n",
      "715 3\n",
      "719 5\n",
      "722 5\n",
      "731 3\n",
      "745 0\n",
      "748 5\n",
      "751 5\n",
      "757 5\n",
      "767 3\n",
      "768 5\n",
      "769 8\n",
      "771 5\n",
      "775 5\n",
      "789 3\n",
      "790 0\n",
      "799 5\n",
      "805 5\n",
      "811 3\n",
      "815 5\n",
      "837 5\n",
      "843 3\n",
      "845 5\n",
      "849 0\n",
      "857 3\n",
      "859 0\n",
      "861 3\n",
      "867 3\n",
      "874 3\n",
      "879 5\n",
      "886 5\n",
      "889 0\n",
      "895 3\n",
      "903 0\n",
      "912 5\n",
      "915 5\n",
      "921 5\n",
      "924 5\n",
      "927 0\n",
      "947 5\n",
      "949 0\n",
      "956 5\n",
      "957 0\n",
      "960 5\n",
      "964 5\n",
      "970 5\n",
      "985 5\n"
     ]
    }
   ],
   "source": [
    "for b in range(0, 1000):\n",
    "    if sgd_clf.predict([X.to_numpy()[b]]) == [ True]:\n",
    "        print(b, Y[b])\n",
    "    "
   ]
  },
  {
   "cell_type": "code",
   "execution_count": null,
   "metadata": {},
   "outputs": [],
   "source": []
  }
 ],
 "metadata": {
  "kernelspec": {
   "display_name": "Python 3 (ipykernel)",
   "language": "python",
   "name": "python3"
  },
  "language_info": {
   "codemirror_mode": {
    "name": "ipython",
    "version": 3
   },
   "file_extension": ".py",
   "mimetype": "text/x-python",
   "name": "python",
   "nbconvert_exporter": "python",
   "pygments_lexer": "ipython3",
   "version": "3.9.7"
  }
 },
 "nbformat": 4,
 "nbformat_minor": 4
}
