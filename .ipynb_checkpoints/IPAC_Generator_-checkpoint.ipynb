{
 "cells": [
  {
   "cell_type": "code",
   "execution_count": 1,
   "id": "6027b379",
   "metadata": {
    "id": "6027b379"
   },
   "outputs": [],
   "source": [
    "#The purpose of this notebook is to create IPAC compliant .txt files given either a .csv of requests or general search parameters.\n",
    "import numpy \n",
    "import math\n",
    "from csv import reader\n",
    "import os\n",
    "import pandas as pd\n",
    "from collections import defaultdict"
   ]
  },
  {
   "cell_type": "code",
   "execution_count": 2,
   "id": "f719c95e",
   "metadata": {
    "colab": {
     "base_uri": "https://localhost:8080/"
    },
    "id": "f719c95e",
    "outputId": "63cb8c3d-c0dc-4a61-f37c-05e2ee31d8e5"
   },
   "outputs": [
    {
     "name": "stdout",
     "output_type": "stream",
     "text": [
      ".csv file? (y/n):n\n",
      "Custom search parameters? (y/n):y\n"
     ]
    }
   ],
   "source": [
    "yncsv = input(\".csv file? (y/n):\")\n",
    "ynbatch = input(\"Custom search parameters? (y/n):\")\n",
    "\n",
    "if yncsv == 'y':\n",
    "    yncsv = 1\n",
    "else:\n",
    "    yncsv = 0\n",
    "    \n",
    "if ynbatch == 'y':\n",
    "    ynbatch = 1\n",
    "else:\n",
    "    ynbatch = 0"
   ]
  },
  {
   "cell_type": "code",
   "execution_count": 3,
   "id": "1807ba49",
   "metadata": {
    "colab": {
     "base_uri": "https://localhost:8080/"
    },
    "id": "1807ba49",
    "outputId": "382fa520-4adb-43f9-9c53-3898f748c039"
   },
   "outputs": [
    {
     "name": "stdout",
     "output_type": "stream",
     "text": [
      "Input center RA:45\n",
      "Input center Dec.:45\n",
      "Input sides dimension:10\n",
      "Number of subdivisions:51\n",
      "Enter .txt file destinationC:\\Users\\annab\\Documents\\Coding\\cs370\\altoff\n"
     ]
    }
   ],
   "source": [
    "if yncsv == 1:\n",
    "    file = input(\"Enter file path to csv:\")\n",
    "if ynbatch == 1:\n",
    "    raorigin = float(input(\"Input center RA:\"))\n",
    "    decorigin = float(input(\"Input center Dec.:\"))\n",
    "    length = float(input(\"Input sides dimension:\"))\n",
    "    divisions = int(input(\"Number of subdivisions:\"))\n",
    "    file = input(\"Enter .txt file destination\")\n",
    "    "
   ]
  },
  {
   "cell_type": "code",
   "execution_count": 4,
   "id": "bb2a059c",
   "metadata": {
    "id": "bb2a059c"
   },
   "outputs": [],
   "source": [
    "#csv processing module\n",
    "#Takes the csv and outputs a list of tuples \n",
    "#Theres an expectation that the csv is comprized of two columns, an RA column and a DEC column respectively \n",
    "#Units for both columns should be degrees\n",
    "if yncsv == 1:\n",
    "    erg = file.split('\\\\')\n",
    "    secfile = []\n",
    "    for n in range (0,len(erg)-1):\n",
    "        secfile.append(erg[n])\n",
    "    litfile = erg[len(erg)-1]\n",
    "    dirfile =\"\\\\\".join(secfile)\n",
    "    os.chdir(dirfile)\n",
    "    listed = []\n",
    "    csv_tuples = []\n",
    "    with open(litfile) as csv_data:\n",
    "        data = reader(csv_data)\n",
    "        for row in data: \n",
    "            listed.append(row)\n",
    "    for n in range (1, len(listed)):\n",
    "        csv_tuples.append([float(listed[n][0]), float(listed[n][1])])"
   ]
  },
  {
   "cell_type": "code",
   "execution_count": 5,
   "id": "63692650",
   "metadata": {
    "colab": {
     "base_uri": "https://localhost:8080/"
    },
    "id": "63692650",
    "outputId": "9f8969ea-bb5f-46c8-f31a-9ae808938b66"
   },
   "outputs": [
    {
     "name": "stdout",
     "output_type": "stream",
     "text": [
      "2601\n",
      "<class 'float'>\n",
      "2601\n"
     ]
    }
   ],
   "source": [
    "#Generated batch search module \n",
    "if ynbatch == 1:\n",
    "    btras = []\n",
    "    figure = []\n",
    "    dec = []\n",
    "    for n in range(0, divisions):\n",
    "        for n in range(0, divisions):\n",
    "              figure.append(raorigin - length/2 + n*length/divisions) \n",
    "    for n in range(0,divisions):\n",
    "        for n in range (0, divisions):\n",
    "              dec.append(decorigin - length/2 + n*length/divisions)\n",
    "    for i in range(0, divisions):\n",
    "        for n in range(0, divisions):\n",
    "            if 0<=figure[i]<=360 and -90<=dec[n]<=90:\n",
    "                btras.append([figure[i],dec[n]])\n",
    "print(len(dec))\n",
    "print(type(figure[4]))\n",
    "        \n",
    "print(len(btras))"
   ]
  },
  {
   "cell_type": "code",
   "execution_count": 7,
   "id": "cb43e2cc",
   "metadata": {
    "colab": {
     "base_uri": "https://localhost:8080/",
     "height": 236
    },
    "id": "cb43e2cc",
    "outputId": "9632ca62-ab6d-4a42-8208-056accdd9669",
    "scrolled": false
   },
   "outputs": [
    {
     "ename": "FileNotFoundError",
     "evalue": "[WinError 2] The system cannot find the file specified: 'C:\\\\Users\\\\annab\\\\Documents\\\\Coding\\\\cs370\\\\altoff.txt'",
     "output_type": "error",
     "traceback": [
      "\u001b[1;31m---------------------------------------------------------------------------\u001b[0m",
      "\u001b[1;31mFileNotFoundError\u001b[0m                         Traceback (most recent call last)",
      "\u001b[1;32m~\\AppData\\Local\\Temp/ipykernel_19028/3689787261.py\u001b[0m in \u001b[0;36m<module>\u001b[1;34m\u001b[0m\n\u001b[0;32m      9\u001b[0m         \u001b[0mfinfig\u001b[0m\u001b[1;33m.\u001b[0m\u001b[0mappend\u001b[0m\u001b[1;33m(\u001b[0m\u001b[0mround\u001b[0m\u001b[1;33m(\u001b[0m\u001b[0mfin\u001b[0m\u001b[1;33m[\u001b[0m\u001b[0mn\u001b[0m\u001b[1;33m]\u001b[0m\u001b[1;33m[\u001b[0m\u001b[0mi\u001b[0m\u001b[1;33m]\u001b[0m\u001b[1;33m,\u001b[0m\u001b[1;36m5\u001b[0m\u001b[1;33m)\u001b[0m\u001b[1;33m)\u001b[0m\u001b[1;33m\u001b[0m\u001b[1;33m\u001b[0m\u001b[0m\n\u001b[0;32m     10\u001b[0m \u001b[0mfile\u001b[0m \u001b[1;33m=\u001b[0m \u001b[1;34mr'C:\\Users\\annab\\Documents\\Coding\\cs370\\altoff.txt'\u001b[0m\u001b[1;33m\u001b[0m\u001b[1;33m\u001b[0m\u001b[0m\n\u001b[1;32m---> 11\u001b[1;33m \u001b[0mos\u001b[0m\u001b[1;33m.\u001b[0m\u001b[0mchdir\u001b[0m\u001b[1;33m(\u001b[0m\u001b[0mfile\u001b[0m\u001b[1;33m)\u001b[0m\u001b[1;33m\u001b[0m\u001b[1;33m\u001b[0m\u001b[0m\n\u001b[0m\u001b[0;32m     12\u001b[0m \u001b[0mcwd\u001b[0m \u001b[1;33m=\u001b[0m \u001b[0mos\u001b[0m\u001b[1;33m.\u001b[0m\u001b[0mgetcwd\u001b[0m\u001b[1;33m(\u001b[0m\u001b[1;33m)\u001b[0m\u001b[1;33m\u001b[0m\u001b[1;33m\u001b[0m\u001b[0m\n\u001b[0;32m     13\u001b[0m \u001b[0mprint\u001b[0m\u001b[1;33m(\u001b[0m\u001b[0mcwd\u001b[0m\u001b[1;33m)\u001b[0m\u001b[1;33m\u001b[0m\u001b[1;33m\u001b[0m\u001b[0m\n",
      "\u001b[1;31mFileNotFoundError\u001b[0m: [WinError 2] The system cannot find the file specified: 'C:\\\\Users\\\\annab\\\\Documents\\\\Coding\\\\cs370\\\\altoff.txt'"
     ]
    }
   ],
   "source": [
    "if yncsv == 1:\n",
    "    fin = csv_tuples\n",
    "if ynbatch == 1:\n",
    "    fin = btras\n",
    "numpages = math.trunc(len(fin)/500)+1\n",
    "finfig = []\n",
    "for n in range(0, len(fin)):\n",
    "    for i in range(0, len(fin[n])):\n",
    "        finfig.append(round(fin[n][i],5))\n",
    "file = r'C:\\Users\\annab\\Documents\\Coding\\cs370\\altoff.txt'\n",
    "os.chdir(file)\n",
    "cwd = os.getcwd()\n",
    "print(cwd)\n",
    "for i in range (0, numpages): \n",
    "    with open(\"{}Woise.txt\".format(i), \"w\") as f:\n",
    "        f.write(\"|              ra|             dec|\")\n",
    "        f.write(\"\\n|          double|          double|\")\n",
    "        f.write(\"\\n|         degrees|         degrees|\") \n",
    "        f.write(\"\\n\")\n",
    "        for n in range (0, 500):\n",
    "            a = 2*n\n",
    "            f.write(str(finfig[i*500+a]).rjust(10))\n",
    "            f.write(str(finfig[i*500+a+1]).rjust(20))\n",
    "            f.write(\"\\n\")"
   ]
  },
  {
   "cell_type": "code",
   "execution_count": null,
   "id": "c8f9e9ba",
   "metadata": {
    "id": "c8f9e9ba"
   },
   "outputs": [],
   "source": []
  },
  {
   "cell_type": "code",
   "execution_count": null,
   "id": "e77c8a62",
   "metadata": {
    "id": "e77c8a62"
   },
   "outputs": [],
   "source": []
  }
 ],
 "metadata": {
  "colab": {
   "name": "IPAC Generator .ipynb",
   "provenance": []
  },
  "kernelspec": {
   "display_name": "Python 3 (ipykernel)",
   "language": "python",
   "name": "python3"
  },
  "language_info": {
   "codemirror_mode": {
    "name": "ipython",
    "version": 3
   },
   "file_extension": ".py",
   "mimetype": "text/x-python",
   "name": "python",
   "nbconvert_exporter": "python",
   "pygments_lexer": "ipython3",
   "version": "3.9.7"
  }
 },
 "nbformat": 4,
 "nbformat_minor": 5
}
